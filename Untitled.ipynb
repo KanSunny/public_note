{
 "cells": [
  {
   "cell_type": "markdown",
   "metadata": {},
   "source": [
    "_note the formula for papers_\n",
    "## Trace of matrix\n",
    "1. Defination: $tr(A) = A_{11}+A_{22}+\\cdots+A_{nn}$  \n",
    "2. Formula expansion with two matrixs：$A \\in C_{NM}$ and $B \\in C_{MN}$  \n",
    "$tr(AB) = \\sum_\\limits{i=1}^N (AB)_{ii} = \\sum_\\limits{i=1}^N \\sum_\\limits{j=1}^M A_{ij} B_{ji}$  \n",
    "$tr(A^TB) = \\sum_\\limits{i=1}^N (A^TB)_{ii} = \\sum_\\limits{i=1}^N \\sum_\\limits{j=1}^M A_{ij} B_{ij}$ 所有元素的乘积构成的矩阵\n",
    "3. Formula expansion with three matrixs ?：$A \\in C_{NM}$, $B \\in C_{MP}$ and $C \\in C_{PN}$  \n",
    "$tr(ABC) = \\sum_\\limits{i=1}^N \\sum_\\limits{j=1}^M \\sum_\\limits{k=1}^P A_{ij} B_{jk} C_{ki}$"
   ]
  }
 ],
 "metadata": {
  "kernelspec": {
   "display_name": "Python 3",
   "language": "python",
   "name": "python3"
  },
  "language_info": {
   "codemirror_mode": {
    "name": "ipython",
    "version": 3
   },
   "file_extension": ".py",
   "mimetype": "text/x-python",
   "name": "python",
   "nbconvert_exporter": "python",
   "pygments_lexer": "ipython3",
   "version": "3.6.8"
  }
 },
 "nbformat": 4,
 "nbformat_minor": 2
}

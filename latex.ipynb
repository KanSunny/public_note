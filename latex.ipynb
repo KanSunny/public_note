{
 "cells": [
  {
   "cell_type": "markdown",
   "metadata": {},
   "source": [
    "\\begin{equation}\n",
    "\\begin{split}\n",
    "\\begin{array}{|c|c|}\n",
    "-----&-----&-----&-----&-----&-----&-----&-----&-----&----- \\\\\n",
    "int &frac{}{} &alpha &beta &gamma &Gamma &delta &Delta &epsilon &varepsilon \\\\\n",
    "\\int_0^1 &\\frac{1}{n} &\\alpha &\\beta &\\gamma &\\Gamma &\\delta &\\Delta &\\epsilon &\\varepsilon \\\\\n",
    "-----&-----&-----&-----&-----&-----&-----&-----&-----&----- \\\\\n",
    "eta &theta &Theta &vartheta &iota &kappa &lambda &Lambda &mu &nu \\\\\n",
    "\\eta &\\theta &\\Theta &\\vartheta &\\iota &\\kappa &\\lambda &\\Lambda &\\mu &\\nu \\\\\n",
    "-----&-----&-----&-----&-----&-----&-----&-----&-----&----- \\\\\n",
    "xi &Xi &pi &Pi &varpi &rho &varrho &sigma &Sigma &varsigma \\\\\n",
    "\\xi &\\Xi &\\pi &\\Pi &\\varpi &\\rho &\\varrho &\\sigma &\\Sigma &\\varsigma \\\\\n",
    "-----&-----&-----&-----&-----&-----&-----&-----&-----&----- \\\\\n",
    "tau &upsilon &Upsilon &phi &Phi &varphi &chi &psi &Psi &Omega \\\\\n",
    "\\tau &\\upsilon &\\Upsilon &\\phi &\\Phi &\\varphi &\\chi &\\psi &\\Psi &\\Omega \\\\\n",
    "-----&-----&-----&-----&-----&-----&-----&-----&-----&----- \\\\\n",
    "omega &zeta &cdot &circ &ast &bigodot &bigotimes &leq &geq &neq \\\\\n",
    "\\omega &\\zeta &\\cdot &\\circ &\\ast &\\bigodot &\\bigotimes &\\leq &\\geq &\\neq \\\\\n",
    "-----&-----&-----&-----&-----&-----&-----&-----&-----&----- \\\\\n",
    "approx &equiv &emptyset &in &notin &subset &supset &subseteq &supseteq &bigcap\\\\\n",
    "\\approx &\\equiv &\\emptyset &\\in &\\notin &\\subset &\\supset &\\subseteq &\\supseteq &\\bigcap\\\\\n",
    "-----&-----&-----&-----&-----&-----&-----&-----&-----&----- \\\\\n",
    "bigcup &bigvee &bigwedge &uparrow &downarrow &leftarrow &rightarrow &Uparrow &Downarrow &Leftarrow\\\\\n",
    "\\bigcup &\\bigvee &\\bigwedge &\\uparrow &\\downarrow &\\leftarrow &\\rightarrow &\\Uparrow &\\Downarrow &\\Leftarrow\\\\\n",
    "-----&-----&-----&-----&-----&-----&-----&-----&-----&----- \\\\\n",
    "Rightarrow &longleftarrow &longrightarrow &Longleftarrow &Longrightarrow &because &therefore &forall &exists &lim \\\\\n",
    "\\Rightarrow &\\longleftarrow &\\longrightarrow &\\Longleftarrow &\\Longrightarrow &\\because &\\therefore &\\forall &\\exists &\\lim \\\\\n",
    "-----&-----&-----&-----&-----&-----&-----&-----&-----&----- \\\\\n",
    "infty &nabla &sqrt[3]\\{9\\} &quad\\\\\n",
    "\\infty &\\nabla &\\sqrt[3]{9} &\\quad\\\\\n",
    "-----&-----&-----&-----&-----&-----&-----&-----&-----&----- \\\\\n",
    "\\\\\n",
    "\\\\\n",
    "-----&-----&-----&-----&-----&-----&-----&-----&-----&----- \\\\\n",
    "\\\\\n",
    "\\\\\n",
    "-----&-----&-----&-----&-----&-----&-----&-----&-----&----- \\\\\n",
    "\\\\\n",
    "\\\\\n",
    "-----&-----&-----&-----&-----&-----&-----&-----&-----&----- \\\\\n",
    "\\\\\n",
    "\\\\\n",
    "-----&-----&-----&-----&-----&-----&-----&-----&-----&----- \\\\\n",
    "\\\\\n",
    "\\\\\n",
    "-----&-----&-----&-----&-----&-----&-----&-----&-----&----- \\\\\n",
    "\\\\\n",
    "\\\\\n",
    "-----&-----&-----&-----&-----&-----&-----&-----&-----&----- \\\\\n",
    "\\end{array}\n",
    "\\end{split}\n",
    "\\end{equation}"
   ]
  },
  {
   "cell_type": "code",
   "execution_count": null,
   "metadata": {},
   "outputs": [],
   "source": []
  }
 ],
 "metadata": {
  "kernelspec": {
   "display_name": "Python 3",
   "language": "python",
   "name": "python3"
  },
  "language_info": {
   "codemirror_mode": {
    "name": "ipython",
    "version": 3
   },
   "file_extension": ".py",
   "mimetype": "text/x-python",
   "name": "python",
   "nbconvert_exporter": "python",
   "pygments_lexer": "ipython3",
   "version": "3.6.8"
  }
 },
 "nbformat": 4,
 "nbformat_minor": 2
}

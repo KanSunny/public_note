{
 "cells": [
  {
   "attachments": {
    "image.png": {
     "image/png": "[encoded data removed]"
    }
   },
   "cell_type": "markdown",
   "metadata": {},
   "source": [
    "1. Feedforward: There are no feedback connections in which outputs of the model are fed back into itself (recurrent neural networks).  \n",
    "指网络结果不会连接回来，并不是指没有反向传播过程\n",
    "2. The feedforward network can be represented by composeing together many different functions.  \n",
    "![image.png](attachment:image.png)\n",
    "where, $f^i$ is the i-th layers of nn.\n",
    "3. The limit of linear function: cannot understand the interaction between any two input variables. (design $\\phi$(x))"
   ]
  },
  {
   "cell_type": "markdown",
   "metadata": {},
   "source": [
    "### 1. Learning XOR"
   ]
  },
  {
   "cell_type": "markdown",
   "metadata": {},
   "source": [
    "#### Linear function cannot learning this relationship"
   ]
  },
  {
   "cell_type": "markdown",
   "metadata": {},
   "source": [
    "#### nertual network (线上是每次相乘的权重矩阵W，点处进行计算 $act(\\sum_i^N O_{i,j-1}W_i)$)"
   ]
  },
  {
   "cell_type": "markdown",
   "metadata": {},
   "source": [
    "without activation function: x -> {.mm(W1)} -> h -> {.mm(W2)} -> y\n",
    "- it's still the linear function: y = x.mm(W), W = W1.mm(W2)\n",
    "\n",
    "\n",
    "with activation function: x -> {act(x.mm(W1)+c)} -> h -> {act(x.mm(W2)+c)} -> y \n",
    "- where the act( ) is activation function (usually use rectified linear unit or ReLU)\n",
    "- c is the biase\n",
    "- pytorch .nn.linear 里面如何设置激活函数的呢？"
   ]
  },
  {
   "cell_type": "markdown",
   "metadata": {},
   "source": [
    "### 2. Gradient-Based Learning"
   ]
  },
  {
   "cell_type": "markdown",
   "metadata": {},
   "source": [
    "1. Different from linear models: nonlinearity of a neural network causes most loss function non-convex (不能直接求导得到), which leads to some problems: (具体如何初始化参数以及训练模型，将在第八章讨论)\n",
    "    - Nn is sensitive to the values of the initial parameters.\n",
    "    - For feedforward neural networks, it is important to initialize all weights to small random values.\n",
    "    - The biases may be initialized to zero or to small positive values.\n",
    "\n"
   ]
  },
  {
   "cell_type": "markdown",
   "metadata": {},
   "source": [
    "#### 2.1 Cost function"
   ]
  },
  {
   "cell_type": "markdown",
   "metadata": {},
   "source": [
    "regularization strategies: weight decay and etc (将要在7章讨论)"
   ]
  },
  {
   "cell_type": "markdown",
   "metadata": {},
   "source": [
    "#### Learning Conditional Distributions with Maximum Likelihood "
   ]
  },
  {
   "attachments": {
    "image.png": {
     "image/png": "[encoded data removed]"
    }
   },
   "cell_type": "markdown",
   "metadata": {},
   "source": [
    "1. Maximum likelihood  \n",
    "利用已知的样本结果，反推最有可能（最大概率）导致这样结果的参数值  \n",
    "对于训练样本：最大化$\\prod_i^n p(y_i|x_i)$  \n",
    "the negative log-likelihood （如果p服从正态分布，下式可以化为均方误差）\n",
    "![image.png](attachment:image.png)\n",
    "The gradient of the cost function must be large and predictable enough to serve as a good guide for the learning algorithm.\n",
    "    - The negative log-likelihood helps to avoid this problem for many models.\n",
    "\n",
    "2. Learning Conditional Statistic\n",
    "\n",
    "3. get loss function\n"
   ]
  },
  {
   "cell_type": "markdown",
   "metadata": {},
   "source": [
    "#### 2.2 Output Units\n",
    "多分类问题一般使用onehot的方法，每个类别之间相互正交，方式学习到其他顺序关系\n",
    "\n",
    "sigmod: 导数过小，出现梯度消失现象\n",
    "\n",
    "softmax: 一般用于解决多分类问题\n",
    "- 输入大， 输出大\n",
    "- $\\sum_i O_i = 1$, 可以表示概率"
   ]
  },
  {
   "cell_type": "markdown",
   "metadata": {},
   "source": [
    "### 3 Hidden Units\n",
    "激活函数一般包含如下三种：\n",
    "- sigmoid\n",
    "- tanh\n",
    "- ReLu (常用)\n",
    "\n",
    "输出单元+损失函数：\n",
    "- sigmoid + MSE (求导之后可能会出现，问题错误但是导数为零的情况)\n",
    "- sigmoid + crosse/Maximum likelihood (导数大小和输出线性相关)"
   ]
  },
  {
   "cell_type": "markdown",
   "metadata": {},
   "source": [
    "### 4 Architecture Design "
   ]
  },
  {
   "cell_type": "markdown",
   "metadata": {},
   "source": [
    "### 5 Back-Propagation and Other Differentiation Algorithms \n",
    "计算图"
   ]
  },
  {
   "cell_type": "code",
   "execution_count": null,
   "metadata": {},
   "outputs": [],
   "source": []
  }
 ],
 "metadata": {
  "kernelspec": {
   "display_name": "Python 3",
   "language": "python",
   "name": "python3"
  },
  "language_info": {
   "codemirror_mode": {
    "name": "ipython",
    "version": 3
   },
   "file_extension": ".py",
   "mimetype": "text/x-python",
   "name": "python",
   "nbconvert_exporter": "python",
   "pygments_lexer": "ipython3",
   "version": "3.6.4"
  }
 },
 "nbformat": 4,
 "nbformat_minor": 2
}

{
 "cells": [
  {
   "cell_type": "markdown",
   "metadata": {},
   "source": [
    "## The Configuration of My Vim"
   ]
  },
  {
   "cell_type": "markdown",
   "metadata": {},
   "source": [
    "### 1. The location of \"vimrc\"  file"
   ]
  },
  {
   "cell_type": "markdown",
   "metadata": {},
   "source": [
    "- ~/.vimrc : which is a vim config file for your own, you don't need \"sudo\" permission', create it, change it to your config, and finish.\n",
    "- /etc/vimrc : which is a public vim config for all user in this computer, you need \"sudo\" permission. "
   ]
  },
  {
   "cell_type": "markdown",
   "metadata": {},
   "source": [
    "### 2. Some basic vim's setting"
   ]
  },
  {
   "cell_type": "markdown",
   "metadata": {},
   "source": [
    "- set nu : which is showing lines number in vim. But if you copy directly, you will copy the line number too, which is a little trouble. When you want to copy this context without lines number , you can use \":set nonu\" in comment model.\n",
    "- set tabstop : The width od a Tab is 4.\n",
    "- set tuler :  Show the ruler on the right side of the status line at the bottom of the window.\n",
    "- set autoindent : Enable automatic indentation as the same with least line.\n",
    "- hi comment ctermfg : set the color of comment."
   ]
  },
  {
   "cell_type": "markdown",
   "metadata": {},
   "source": [
    "### 3. Intersting plugin file"
   ]
  },
  {
   "cell_type": "markdown",
   "metadata": {},
   "source": [
    "#### 1. Pydiction"
   ]
  },
  {
   "cell_type": "markdown",
   "metadata": {},
   "source": [
    "Description : The autcmatic completion plugin of python  \n",
    "Tutorial ： https://blog.csdn.net/niepangu/article/details/78976243"
   ]
  },
  {
   "cell_type": "markdown",
   "metadata": {},
   "source": [
    "### 4. My vimrc file"
   ]
  },
  {
   "cell_type": "code",
   "execution_count": 4,
   "metadata": {},
   "outputs": [
    {
     "ename": "SyntaxError",
     "evalue": "EOL while scanning string literal (<ipython-input-4-7f81a4d2c196>, line 1)",
     "output_type": "error",
     "traceback": [
      "\u001b[0;36m  File \u001b[0;32m\"<ipython-input-4-7f81a4d2c196>\"\u001b[0;36m, line \u001b[0;32m1\u001b[0m\n\u001b[0;31m    \" All system-wide defaults are set in $VIMRUNTIME/debian.vim and sourced by\u001b[0m\n\u001b[0m                                                                               ^\u001b[0m\n\u001b[0;31mSyntaxError\u001b[0m\u001b[0;31m:\u001b[0m EOL while scanning string literal\n"
     ]
    }
   ],
   "source": [
    "\" All system-wide defaults are set in $VIMRUNTIME/debian.vim and sourced by\n",
    "\" the call to :runtime you can find below.  If you wish to change any of those\n",
    "\" settings, you should do it in this file (/etc/vim/vimrc), since debian.vim\n",
    "\" will be overwritten everytime an upgrade of the vim packages is performed.\n",
    "\" It is recommended to make changes after sourcing debian.vim since it alters\n",
    "\" the value of the 'compatible' option.\n",
    "\n",
    "\" This line should not be removed as it ensures that various options are\n",
    "\" properly set to work with the Vim-related packages available in Debian.\n",
    "runtime! debian.vim\n",
    "\n",
    "\" Uncomment the next line to make Vim more Vi-compatible\n",
    "\" NOTE: debian.vim sets 'nocompatible'.  Setting 'compatible' changes numerous\n",
    "\" options, so any other options should be set AFTER setting 'compatible'.\n",
    "\"set compatible\n",
    "\n",
    "\" Vim5 and later versions support syntax highlighting. Uncommenting the next\n",
    "\" line enables syntax highlighting by default.\n",
    "if has(\"syntax\")\n",
    "  syntax on\n",
    "endif\n",
    "\n",
    "\" If using a dark background within the editing area and syntax highlighting\n",
    "\" turn on this option as well\n",
    "\"set background=dark\n",
    "\n",
    "\" Uncomment the following to have Vim jump to the last position when\n",
    "\" reopening a file\n",
    "\"if has(\"autocmd\")\n",
    "\"  au BufReadPost * if line(\"'\\\"\") > 1 && line(\"'\\\"\") <= line(\"$\") | exe \"normal! g'\\\"\" | endif\n",
    "\"endif\n",
    "\n",
    "\" Uncomment the following to have Vim load indentation rules and plugins\n",
    "\" according to the detected filetype.\n",
    "\"if has(\"autocmd\")\n",
    "\"  filetype plugin indent on\n",
    "\"endif\n",
    "\n",
    "\" The following are commented out as they cause vim to behave a lot\n",
    "\" differently from regular Vi. They are highly recommended though.\n",
    "\"set showcmd            \" Show (partial) command in status line.\n",
    "\"set showmatch          \" Show matching brackets.\n",
    "\"set ignorecase         \" Do case insensitive matching\n",
    "\"set smartcase          \" Do smart case matching\n",
    "\"set incsearch          \" Incremental search\n",
    "\"set autowrite          \" Automatically save before commands like :next and :make\n",
    "\"set hidden             \" Hide buffers when they are abandoned\n",
    "\"set mouse=a            \" Enable mouse usage (all modes)\n",
    "\n",
    "\" Source a global configuration file if available\n",
    "if filereadable(\"/etc/vim/vimrc.local\")\n",
    "  source /etc/vim/vimrc.local\n",
    "endif\n",
    "\n",
    "set nu\n",
    "set tabstop\n",
    "set ruler\n",
    "set autoindent\n",
    "hi comment ctermfg = 10\n",
    "\n",
    "filetype plugin on\n",
    "let g:pydiction_location = '~/.vim/bundle/pydiction/complete-dict'\n",
    "let g:pydiction_menu_height = 3"
   ]
  },
  {
   "cell_type": "code",
   "execution_count": null,
   "metadata": {},
   "outputs": [],
   "source": []
  }
 ],
 "metadata": {
  "kernelspec": {
   "display_name": "Python 3",
   "language": "python",
   "name": "python3"
  },
  "language_info": {
   "codemirror_mode": {
    "name": "ipython",
    "version": 3
   },
   "file_extension": ".py",
   "mimetype": "text/x-python",
   "name": "python",
   "nbconvert_exporter": "python",
   "pygments_lexer": "ipython3",
   "version": "3.6.4"
  }
 },
 "nbformat": 4,
 "nbformat_minor": 2
}

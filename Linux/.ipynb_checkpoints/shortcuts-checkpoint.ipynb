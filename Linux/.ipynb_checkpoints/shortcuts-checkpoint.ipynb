{
 "cells": [
  {
   "cell_type": "markdown",
   "metadata": {},
   "source": [
    "### 1. 权限\n",
    "#### 权限的含义\n",
    "从左到右：\n",
    "- 前三位表示文件所有者权限\n",
    "- 中间三位表示同组用户权限\n",
    "- 最后三位表示其他用户权限\n",
    "\n",
    "#### 修改权限\n",
    "chmod 775 folder\n",
    "\n",
    "#### 修改默认权限\n",
    "umask 002"
   ]
  },
  {
   "cell_type": "code",
   "execution_count": null,
   "metadata": {},
   "outputs": [],
   "source": []
  }
 ],
 "metadata": {
  "kernelspec": {
   "display_name": "Python 3",
   "language": "python",
   "name": "python3"
  },
  "language_info": {
   "codemirror_mode": {
    "name": "ipython",
    "version": 3
   },
   "file_extension": ".py",
   "mimetype": "text/x-python",
   "name": "python",
   "nbconvert_exporter": "python",
   "pygments_lexer": "ipython3",
   "version": "3.6.4"
  }
 },
 "nbformat": 4,
 "nbformat_minor": 2
}

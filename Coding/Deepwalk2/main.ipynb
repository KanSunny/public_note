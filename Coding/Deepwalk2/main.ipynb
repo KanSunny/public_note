{
 "cells": [
  {
   "cell_type": "code",
   "execution_count": 7,
   "metadata": {},
   "outputs": [
    {
     "name": "stderr",
     "output_type": "stream",
     "text": [
      "usage: deepwalk [-h] [--format {adjlist,edgelist}]\n",
      "                [--number-walks NUMBER_WALKS] --input [INPUT] --output OUTPUT\n",
      "                [--representation-size REPRESENTATION_SIZE] [--seed SEED]\n",
      "                [--undirected UNDIRECTED] [--vertex-freq-degree]\n",
      "                [--walk-length WALK_LENGTH] [--window-size WINDOW_SIZE]\n",
      "deepwalk: error: the following arguments are required: --output\n"
     ]
    },
    {
     "ename": "SystemExit",
     "evalue": "2",
     "output_type": "error",
     "traceback": [
      "An exception has occurred, use %tb to see the full traceback.\n",
      "\u001b[0;31mSystemExit\u001b[0m\u001b[0;31m:\u001b[0m 2\n"
     ]
    },
    {
     "name": "stderr",
     "output_type": "stream",
     "text": [
      "/home/gjn/anaconda3/lib/python3.6/site-packages/IPython/core/interactiveshell.py:2918: UserWarning: To exit: use 'exit', 'quit', or Ctrl-D.\n",
      "  warn(\"To exit: use 'exit', 'quit', or Ctrl-D.\", stacklevel=1)\n"
     ]
    }
   ],
   "source": [
    "from argparse import ArgumentParser, ArgumentDefaultsHelpFormatter # 命令行解析模块\n",
    "import graph\n",
    "import walks\n",
    "from word2vec import Word2Vec\n",
    "import random\n",
    "\n",
    "def process(args):\n",
    "    if args.format == \"adjlist\":\n",
    "        G = graph.load_adjacencylist(args.input, undirected=args.undirected)\n",
    "    elif args.format == \"edgelist\":\n",
    "        G = graph.load_adjacencylist(args.input, undirected=args.undirected)\n",
    "    else:\n",
    "        raise Exception(\"unknown file format: '%s'. valid formats: 'adjlist', 'edgelist'\" % args.format)\n",
    "\n",
    "    print(\"number of nodes: {}\".format(len(G.nodes()))) # .format 格式化字符串（取代{}）\n",
    "    \n",
    "    num_walks = len(G.nodes()) * args.number_walks # 每个节点有多个walks\n",
    "    print(\"number of walks: {}\".format(num_walks))\n",
    "    \n",
    "    data_size = num_walks * args.walk_length\n",
    "    print(\"data size (walk*length): {}\".format(data_size))\n",
    "\n",
    "    print(\"walking...\")\n",
    "    walk_file = walks.write_walks_to_disk(G, args.output, num_paths=args.number_walks,\n",
    "                                             path_length=args.walk_length, alpha=0,\n",
    "                                             rand=random.Random(args.seed))\n",
    "    model = Word2Vec(walk_file, args.output, emb_dimension=args.representation_size, window_size=args.window_size, min_count=0)\n",
    "    print(\"Training...\")\n",
    "    \n",
    "    model.skip_gram_train()\n",
    "    \n",
    "def main():\n",
    "    parser: ArgumentParser = ArgumentParser(\"deepwalk\", formatter_class=ArgumentDefaultsHelpFormatter,conflict_handler='resolve')\n",
    "    parser.add_argument('--format', default='adjlist', choices=['adjlist', 'edgelist'])\n",
    "    parser.add_argument('--number-walks', default=10, type=int)\n",
    "    parser.add_argument('--input', nargs='?', required=True)\n",
    "    parser.add_argument('--output', required=True)\n",
    "    parser.add_argument('--representation-size', default=64, type=int,\n",
    "                        help='Number of latent dimensions to learn for each node.')\n",
    "    parser.add_argument('--seed', default=0, type=int)\n",
    "    parser.add_argument('--undirected', default=True, type=bool,\n",
    "                        help='Treat graph as undirected.')\n",
    "    parser.add_argument('--vertex-freq-degree', default=False, action='store_true',\n",
    "                        help='Use vertex degree to estimate the frequency of nodes '\n",
    "                             'in the random walks. This option is faster than '\n",
    "                             'calculating the vocabulary.')\n",
    "    parser.add_argument('--walk-length', default=40, type=int)\n",
    "    parser.add_argument('--window-size', default=5, type=int,\n",
    "                        help='Window size of skipgram model.')\n",
    "\n",
    "#     args = parser.parse_args()\n",
    "    args = parser.parse_args(\"--input ./karate.adjlist \"\n",
    "                             \"--output ./output \"\n",
    "                             \"--representation-size 4\".split())\n",
    "\n",
    "    print(args)\n",
    "    process(args)\n",
    "    \n",
    "if __name__ == \"__main__\":\n",
    "    main()"
   ]
  }
 ],
 "metadata": {
  "kernelspec": {
   "display_name": "Python 3",
   "language": "python",
   "name": "python3"
  },
  "language_info": {
   "codemirror_mode": {
    "name": "ipython",
    "version": 3
   },
   "file_extension": ".py",
   "mimetype": "text/x-python",
   "name": "python",
   "nbconvert_exporter": "python",
   "pygments_lexer": "ipython3",
   "version": "3.6.8"
  }
 },
 "nbformat": 4,
 "nbformat_minor": 2
}

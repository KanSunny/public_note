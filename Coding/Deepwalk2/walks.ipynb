{
 "cells": [
  {
   "cell_type": "code",
   "execution_count": 4,
   "metadata": {},
   "outputs": [],
   "source": [
    "import graph\n",
    "import random\n",
    "\n",
    "__current_graph = None\n",
    "\n",
    "def write_walks_to_disk(G, filestr, num_paths, path_length, alpha=0, rand=random.Random(0)):\n",
    "    global __current_graph\n",
    "    __current_graph = G\n",
    "    with open(filestr + '.random_walks', 'w') as fout:\n",
    "        for walk in graph.build_deepwalk_corpus_iter(G=G, num_paths=num_paths, path_length=path_length, alpha=alpha, rand=rand):\n",
    "            fout.write(u\"{}\\n\".format(u\" \".join(v for v in walk)))\n",
    "    return filestr + '.random_walks'"
   ]
  }
 ],
 "metadata": {
  "kernelspec": {
   "display_name": "Python 3",
   "language": "python",
   "name": "python3"
  },
  "language_info": {
   "codemirror_mode": {
    "name": "ipython",
    "version": 3
   },
   "file_extension": ".py",
   "mimetype": "text/x-python",
   "name": "python",
   "nbconvert_exporter": "python",
   "pygments_lexer": "ipython3",
   "version": "3.6.8"
  }
 },
 "nbformat": 4,
 "nbformat_minor": 2
}

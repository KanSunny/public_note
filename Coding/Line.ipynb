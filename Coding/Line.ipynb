{
 "cells": [
  {
   "cell_type": "code",
   "execution_count": null,
   "metadata": {},
   "outputs": [],
   "source": [
    "import networkx as x\n",
    "import numpy as np\n",
    "import random\n",
    "import torch as t\n",
    "import torch.nn as nn\n",
    "import torch.optim as optim\n",
    "import torch.nn.functional as F\n",
    "from numpy.linalg import norm # numpy.linalg包含很多线性代数运算，行列式，范式等\n",
    "\n",
    "class Line_1st(nn.Module):\n",
    "    def __init__(self, num_nodes, emb_size = 64):\n",
    "        super(Line_1st, self).__init__()\n",
    "        self.order = 1\n",
    "        self.emb_size = emb_size\n",
    "        self.num_nodes = num_nodes\n",
    "        self.emb = nn.Embedding(num_nodes, emb_size)\n",
    "        \n",
    "    def forward(self, x1, x2, w):\n",
    "        x1 = self.emb(x1)\n",
    "        x2 = self.emb(x2)\n",
    "        x = w*sum(x1*x2, dim=1)\n",
    "        return -F.logsigmoid(x).mean()\n",
    "    \n",
    "    def similarity(self, u, v):\n",
    "        v1 = self.emb."
   ]
  }
 ],
 "metadata": {
  "kernelspec": {
   "display_name": "Python 3",
   "language": "python",
   "name": "python3"
  },
  "language_info": {
   "codemirror_mode": {
    "name": "ipython",
    "version": 3
   },
   "file_extension": ".py",
   "mimetype": "text/x-python",
   "name": "python",
   "nbconvert_exporter": "python",
   "pygments_lexer": "ipython3",
   "version": "3.6.8"
  }
 },
 "nbformat": 4,
 "nbformat_minor": 2
}
